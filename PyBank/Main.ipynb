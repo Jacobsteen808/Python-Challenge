{
 "cells": [
  {
   "cell_type": "code",
   "execution_count": 79,
   "id": "0c0fd601-9e08-4459-9974-7cda6fcbb163",
   "metadata": {
    "tags": []
   },
   "outputs": [],
   "source": [
    "import csv"
   ]
  },
  {
   "cell_type": "code",
   "execution_count": 80,
   "id": "c413498e-0161-41ec-b0dd-7852bcf583cf",
   "metadata": {
    "tags": []
   },
   "outputs": [
    {
     "name": "stdout",
     "output_type": "stream",
     "text": [
      "Financial Analysis\n",
      "------------------\n",
      "Total Months: 86\n",
      "Total: $38382578\n",
      "Average Change: $-2315.12\n",
      "Greatest Increase in Profits: Feb-12 $1926159\n",
      "Greatest Decrease in Profits: Sep-13 $-2196167\n"
     ]
    }
   ],
   "source": [
    "# Make Variables for fin data\n",
    "total_months = 0\n",
    "net_total = 0\n",
    "prev_profit = None\n",
    "profit_changes = []\n",
    "dates = []\n",
    "\n",
    "# Read CSV\n",
    "with open(\"budget_data.csv\", newline=\"\") as csvfile:\n",
    "    csvreader = csv.reader(csvfile, delimiter=\",\")\n",
    "    \n",
    "     # Skip the header row\n",
    "    header = next(csvreader)\n",
    "    \n",
    "    # Get data out of CSV row 1\n",
    "    for row in csvreader:\n",
    "        date = row[0]\n",
    "        profit_or_loss = int(row[1])\n",
    "        \n",
    "        # Calc total months\n",
    "        total_months += 1\n",
    "        \n",
    "        #calc total profit\n",
    "        net_total += profit_or_loss\n",
    "        \n",
    "        # Calc change in profit from prev month\n",
    "        if prev_profit is not None:\n",
    "            profit_change = profit_or_loss - prev_profit\n",
    "            profit_changes.append(profit_change)\n",
    "            dates.append(date)\n",
    "        prev_profit = profit_or_loss\n",
    "        \n",
    "# Calc avg change\n",
    "avg_change = sum(profit_changes)/len(profit_changes)\n",
    "\n",
    "# Find the greatest increase and decrease\n",
    "greatest_increase = max(profit_changes)\n",
    "greatest_decrease = min(profit_changes)\n",
    "\n",
    "# Date the high and low\n",
    "increase_num = profit_changes.index(greatest_increase)\n",
    "decrease_num = profit_changes.index(greatest_decrease)\n",
    "increase_date = dates[increase_num]\n",
    "decrease_date = dates[decrease_num]\n",
    "\n",
    "# Print Analysis results\n",
    "print(\"Financial Analysis\")\n",
    "print(\"------------------\")\n",
    "print(f\"Total Months: {total_months}\")\n",
    "print(f\"Total: ${net_total}\")\n",
    "print(f\"Average Change: ${avg_change:.2f}\")\n",
    "print(f\"Greatest Increase in Profits: {increase_date} ${greatest_increase}\")\n",
    "print(f\"Greatest Decrease in Profits: {decrease_date} ${greatest_decrease}\")"
   ]
  },
  {
   "cell_type": "code",
   "execution_count": null,
   "id": "c810ca25-1663-47f7-87c7-d37c44aea77e",
   "metadata": {},
   "outputs": [],
   "source": []
  }
 ],
 "metadata": {
  "kernelspec": {
   "display_name": "Python 3 (ipykernel)",
   "language": "python",
   "name": "python3"
  },
  "language_info": {
   "codemirror_mode": {
    "name": "ipython",
    "version": 3
   },
   "file_extension": ".py",
   "mimetype": "text/x-python",
   "name": "python",
   "nbconvert_exporter": "python",
   "pygments_lexer": "ipython3",
   "version": "3.11.4"
  }
 },
 "nbformat": 4,
 "nbformat_minor": 5
}
